{
 "cells": [
  {
   "cell_type": "code",
   "execution_count": 1,
   "metadata": {},
   "outputs": [],
   "source": [
    "import numpy as np\n",
    "import matplotlib.pyplot as plt"
   ]
  },
  {
   "cell_type": "code",
   "execution_count": 6,
   "metadata": {},
   "outputs": [],
   "source": [
    "class ListNode(object):\n",
    "    def __init__(self, data = 0, next_node = None):\n",
    "        self.data = data\n",
    "        self.next = next_node\n",
    "        \n",
    "def insert_after(node, new_node):\n",
    "        new_node.next = node.next\n",
    "        node.next = new_node\n",
    "        \n",
    "def delete_after(node):\n",
    "    node.next = node.next.next\n",
    "\n",
    "def search_list(L, key):\n",
    "    while L and L.data != key:\n",
    "        L= L.next\n",
    "    return L\n",
    "\n",
    "def print_list(L):\n",
    "    while L:\n",
    "        print(L.data)\n",
    "        L= L.next"
   ]
  },
  {
   "cell_type": "code",
   "execution_count": 7,
   "metadata": {},
   "outputs": [],
   "source": [
    "L1 = ListNode(555)\n",
    "L2 = ListNode(777)\n",
    "L3 = ListNode(999)\n",
    "L4 = ListNode(666)\n",
    "L5 = ListNode(888)\n",
    "L6 = ListNode(111)\n",
    "\n",
    "insert_after(L1,L2)\n",
    "insert_after(L2,L3)\n",
    "insert_after(L3,L4)\n",
    "insert_after(L4,L5)\n",
    "insert_after(L5,L6)"
   ]
  },
  {
   "cell_type": "code",
   "execution_count": 8,
   "metadata": {},
   "outputs": [
    {
     "name": "stdout",
     "output_type": "stream",
     "text": [
      "555\n",
      "777\n",
      "999\n",
      "666\n",
      "888\n",
      "111\n"
     ]
    }
   ],
   "source": [
    "print_list(L1)"
   ]
  },
  {
   "cell_type": "code",
   "execution_count": 36,
   "metadata": {},
   "outputs": [
    {
     "name": "stdout",
     "output_type": "stream",
     "text": [
      "555\n",
      "777\n",
      "999\n",
      "helloworld\n",
      "666\n",
      "888\n",
      "1000\n"
     ]
    }
   ],
   "source": [
    "L1 = ListNode(555)\n",
    "La = ListNode(777)\n",
    "Lb = ListNode(999)\n",
    "\n",
    "L2 = ListNode(666)\n",
    "Ld = ListNode(888)\n",
    "Le = ListNode(1000)\n",
    "\n",
    "insert_after(L1,La)\n",
    "insert_after(La,Lb)\n",
    "\n",
    "insert_after(L2,Ld)\n",
    "insert_after(Ld,Le)\n",
    "\n",
    "print_list(L1)\n",
    "print(\"helloworld\")\n",
    "print_list(L2)"
   ]
  },
  {
   "cell_type": "code",
   "execution_count": 37,
   "metadata": {},
   "outputs": [
    {
     "name": "stdout",
     "output_type": "stream",
     "text": [
      "0\n",
      "555\n",
      "666\n",
      "777\n",
      "888\n",
      "999\n",
      "hello\n",
      "666\n",
      "777\n",
      "888\n",
      "999\n"
     ]
    }
   ],
   "source": [
    "def merge_list(Lk,Lm):\n",
    "    temp_1 = Lk\n",
    "    temp_2 = Lm\n",
    "    temp = ListNode()\n",
    "    head = temp\n",
    "    \n",
    "    while temp_1 and temp_2:\n",
    "        if temp_1.data < temp_2.data:\n",
    "            temp.next = temp_1\n",
    "            temp_1 = temp_1.next\n",
    "        else:\n",
    "            temp.next = temp_2\n",
    "            temp_2 = temp_2.next\n",
    "        temp = temp.next\n",
    "    temp = temp_1 or temp_2\n",
    "    return head\n",
    "\n",
    "print_list(L=merge_list(L1,L2))\n",
    "print(\"hello\")\n",
    "print_list(L2)"
   ]
  },
  {
   "cell_type": "code",
   "execution_count": 39,
   "metadata": {},
   "outputs": [
    {
     "ename": "NameError",
     "evalue": "name 'cifar10_download_and_extract' is not defined",
     "output_type": "error",
     "traceback": [
      "\u001b[0;31m---------------------------------------------------------------------------\u001b[0m",
      "\u001b[0;31mNameError\u001b[0m                                 Traceback (most recent call last)",
      "\u001b[0;32m<ipython-input-39-a08ee5951864>\u001b[0m in \u001b[0;36m<module>\u001b[0;34m()\u001b[0m\n\u001b[0;32m----> 1\u001b[0;31m \u001b[0mcifar10_download_and_extract\u001b[0m\u001b[0;34m.\u001b[0m\u001b[0mpy\u001b[0m\u001b[0;34m\u001b[0m\u001b[0m\n\u001b[0m",
      "\u001b[0;31mNameError\u001b[0m: name 'cifar10_download_and_extract' is not defined"
     ]
    }
   ],
   "source": [
    "cifar10_download_and_extract.py"
   ]
  },
  {
   "cell_type": "code",
   "execution_count": null,
   "metadata": {},
   "outputs": [],
   "source": []
  }
 ],
 "metadata": {
  "kernelspec": {
   "display_name": "Python 3",
   "language": "python",
   "name": "python3"
  },
  "language_info": {
   "codemirror_mode": {
    "name": "ipython",
    "version": 3
   },
   "file_extension": ".py",
   "mimetype": "text/x-python",
   "name": "python",
   "nbconvert_exporter": "python",
   "pygments_lexer": "ipython3",
   "version": "3.6.4"
  }
 },
 "nbformat": 4,
 "nbformat_minor": 2
}
