{
 "cells": [
  {
   "cell_type": "markdown",
   "metadata": {
    "collapsed": false
   },
   "source": [
    "### Problem 1 : Count number of bits"
   ]
  },
  {
   "cell_type": "code",
   "execution_count": 1,
   "metadata": {
    "collapsed": true
   },
   "outputs": [],
   "source": [
    "def countBits(n):\n",
    "    count = 0\n",
    "    while n:\n",
    "        n = n & (n-1)\n",
    "        count += 1\n",
    "    return count"
   ]
  },
  {
   "cell_type": "code",
   "execution_count": 2,
   "metadata": {
    "collapsed": false
   },
   "outputs": [],
   "source": [
    "assert countBits(0) == 0\n",
    "assert countBits(1) == 1\n",
    "assert countBits(3) == 2\n",
    "assert countBits(2**64-1) == 64"
   ]
  },
  {
   "cell_type": "markdown",
   "metadata": {},
   "source": [
    "### Problem 2 : Count parity of bits"
   ]
  },
  {
   "cell_type": "code",
   "execution_count": 3,
   "metadata": {
    "collapsed": true
   },
   "outputs": [],
   "source": [
    "def parityBits(n):\n",
    "    parity = 0\n",
    "    while n:\n",
    "        n &= (n-1)\n",
    "        parity ^= 1\n",
    "    return parity"
   ]
  },
  {
   "cell_type": "code",
   "execution_count": 4,
   "metadata": {
    "collapsed": true
   },
   "outputs": [],
   "source": [
    "assert parityBits(2**64) == 1\n",
    "assert parityBits(2**64 -1) == 0"
   ]
  },
  {
   "cell_type": "markdown",
   "metadata": {},
   "source": [
    "### Problem 3: Check if divisible by 2"
   ]
  },
  {
   "cell_type": "code",
   "execution_count": 5,
   "metadata": {
    "collapsed": true
   },
   "outputs": [],
   "source": [
    "def isPowerBy2(n):\n",
    "    if (n & (n-1)):\n",
    "        return False\n",
    "    return True"
   ]
  },
  {
   "cell_type": "code",
   "execution_count": 6,
   "metadata": {
    "collapsed": false
   },
   "outputs": [],
   "source": [
    "assert isPowerBy2(16) == True\n",
    "assert isPowerBy2(23) == False"
   ]
  },
  {
   "cell_type": "markdown",
   "metadata": {},
   "source": [
    "### Problem 4: SwapBits"
   ]
  },
  {
   "cell_type": "code",
   "execution_count": 7,
   "metadata": {
    "collapsed": false
   },
   "outputs": [],
   "source": [
    "def swapBits(n, i, j):\n",
    "    if (((n>>i) & 1) != ((n>>j)) & 1) :\n",
    "        bitmask = (1<<(i) | 1<<(j))\n",
    "        n ^= bitmask\n",
    "    return n"
   ]
  },
  {
   "cell_type": "code",
   "execution_count": 8,
   "metadata": {
    "collapsed": false
   },
   "outputs": [],
   "source": [
    "assert swapBits(2,1,0) == 1\n",
    "assert swapBits(3,1,0) == 3"
   ]
  },
  {
   "cell_type": "markdown",
   "metadata": {},
   "source": [
    "### Problem 5:Reverse Bits"
   ]
  },
  {
   "cell_type": "code",
   "execution_count": 9,
   "metadata": {
    "collapsed": true
   },
   "outputs": [],
   "source": [
    "def reverseBits(n):\n",
    "    reverse_n = 0\n",
    "    while n:\n",
    "        rem = n % 2\n",
    "        reverse_n = reverse_n * 2 + rem\n",
    "        n = n // 2\n",
    "    return reverse_n"
   ]
  },
  {
   "cell_type": "code",
   "execution_count": 10,
   "metadata": {
    "collapsed": false
   },
   "outputs": [],
   "source": [
    "assert reverseBits(2) == 1\n",
    "assert reverseBits(2**64) == 1\n",
    "assert reverseBits(3) == 3"
   ]
  },
  {
   "cell_type": "markdown",
   "metadata": {},
   "source": [
    "### Problem 6: Find closest integer with same weight"
   ]
  },
  {
   "cell_type": "code",
   "execution_count": 11,
   "metadata": {
    "collapsed": false
   },
   "outputs": [],
   "source": [
    "def findClosestIntegerWithSameWeight(n):\n",
    "    for i in range(63):\n",
    "        if (n>>i) & 1 != n>>(i+1)&1:\n",
    "            bit_mask = (1<<i) | (1<<(i+1))\n",
    "            n ^= bit_mask\n",
    "            return n"
   ]
  },
  {
   "cell_type": "code",
   "execution_count": 12,
   "metadata": {
    "collapsed": false
   },
   "outputs": [],
   "source": [
    "assert findClosestIntegerWithSameWeight(6) == 5"
   ]
  },
  {
   "cell_type": "markdown",
   "metadata": {},
   "source": [
    "### Problem 7: Reverse Digits"
   ]
  },
  {
   "cell_type": "code",
   "execution_count": 13,
   "metadata": {
    "collapsed": true
   },
   "outputs": [],
   "source": [
    "def reverseDigits(n):\n",
    "    reverse_n,abs_n = 0,abs(n)\n",
    "    while abs_n:\n",
    "        reverse_n = reverse_n * 10 + abs_n % 10\n",
    "        abs_n = abs_n // 10\n",
    "    if n > 0:\n",
    "        return reverse_n\n",
    "    else: \n",
    "        return -1 * reverse_n"
   ]
  },
  {
   "cell_type": "code",
   "execution_count": 14,
   "metadata": {
    "collapsed": true
   },
   "outputs": [],
   "source": [
    "assert reverseDigits(100) == 1\n",
    "assert reverseDigits(123456789) == 987654321\n",
    "assert reverseDigits(-123456789) == -987654321"
   ]
  },
  {
   "cell_type": "markdown",
   "metadata": {},
   "source": [
    "### Problem 8: Check Palindrome"
   ]
  },
  {
   "cell_type": "code",
   "execution_count": 41,
   "metadata": {
    "collapsed": false
   },
   "outputs": [],
   "source": [
    "import math\n",
    "def checkPalindrome(n):\n",
    "    N = math.floor((math.log10(n)))\n",
    "    while n:\n",
    "        if (n // (10**N)) != (n % 10):\n",
    "            return False\n",
    "        n = n-((n//(10**N))*(10**N))\n",
    "        n = n//10\n",
    "        N -= 2\n",
    "    return True"
   ]
  },
  {
   "cell_type": "code",
   "execution_count": 42,
   "metadata": {
    "collapsed": false
   },
   "outputs": [],
   "source": [
    "assert checkPalindrome(2442) == True\n",
    "assert checkPalindrome(2452) == False\n",
    "assert checkPalindrome(1442) == False\n",
    "assert checkPalindrome(131) == True"
   ]
  },
  {
   "cell_type": "markdown",
   "metadata": {},
   "source": [
    "### Misc"
   ]
  },
  {
   "cell_type": "code",
   "execution_count": 44,
   "metadata": {
    "collapsed": true
   },
   "outputs": [],
   "source": [
    "def count_bits_upto_n(num):\n",
    "    count = 0\n",
    "    for i in range(0,32):\n",
    "        if not num // (2**i):\n",
    "            break\n",
    "        count += (num // (2**i) + num%(2**i))\n",
    "    return count"
   ]
  },
  {
   "cell_type": "code",
   "execution_count": 45,
   "metadata": {
    "collapsed": true
   },
   "outputs": [],
   "source": [
    "def closestInterger(x):\n",
    "    totalNumberBits = 64\n",
    "    for i in range(totalNumberBits - 1):\n",
    "        if ((x >> i) & 1 ^ (x >> (i+1)) & 1):\n",
    "            x ^= (1 << i) | (1 <<(i+1))\n",
    "            return x"
   ]
  },
  {
   "cell_type": "code",
   "execution_count": 46,
   "metadata": {
    "collapsed": false
   },
   "outputs": [
    {
     "name": "stdout",
     "output_type": "stream",
     "text": [
      "0b101\n",
      "0b10\n",
      "0b1010\n",
      "0b100000\n"
     ]
    }
   ],
   "source": [
    "x = 5\n",
    "print(bin(x))\n",
    "print(bin(x>>1))\n",
    "print(bin(x<<1))\n",
    "print(bin(1<<x))"
   ]
  }
 ],
 "metadata": {
  "kernelspec": {
   "display_name": "Python 3",
   "language": "python",
   "name": "python3"
  },
  "language_info": {
   "codemirror_mode": {
    "name": "ipython",
    "version": 3
   },
   "file_extension": ".py",
   "mimetype": "text/x-python",
   "name": "python",
   "nbconvert_exporter": "python",
   "pygments_lexer": "ipython3",
   "version": "3.6.5"
  }
 },
 "nbformat": 4,
 "nbformat_minor": 0
}
