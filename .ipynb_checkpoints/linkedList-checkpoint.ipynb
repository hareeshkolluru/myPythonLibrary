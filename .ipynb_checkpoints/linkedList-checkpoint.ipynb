{
 "cells": [
  {
   "cell_type": "code",
   "execution_count": 1,
   "metadata": {
    "collapsed": true
   },
   "outputs": [],
   "source": [
    "import numpy as np\n",
    "import matplotlib.pyplot as plt"
   ]
  },
  {
   "cell_type": "code",
   "execution_count": 2,
   "metadata": {
    "collapsed": true
   },
   "outputs": [],
   "source": [
    "class ListNode(object):\n",
    "    def __init__(self, data = 0, next_node = None):\n",
    "        self.data = data\n",
    "        self.next = next_node\n",
    "        \n",
    "def insert_after(node, new_node):\n",
    "        new_node.next = node.next\n",
    "        node.next = new_node\n",
    "        \n",
    "def delete_after(node):\n",
    "    node.next = node.next.next\n",
    "\n",
    "def search_list(L, key):\n",
    "    while L and L.data != key:\n",
    "        L= L.next\n",
    "    return L\n",
    "\n",
    "def print_list(L):\n",
    "    while L:\n",
    "        print(L.data)\n",
    "        L= L.next"
   ]
  },
  {
   "cell_type": "code",
   "execution_count": 3,
   "metadata": {
    "collapsed": true
   },
   "outputs": [],
   "source": [
    "L1 = ListNode(555)\n",
    "L2 = ListNode(777)\n",
    "L3 = ListNode(999)\n",
    "L4 = ListNode(666)\n",
    "L5 = ListNode(888)\n",
    "L6 = ListNode(111)\n",
    "\n",
    "insert_after(L1,L2)\n",
    "insert_after(L2,L3)\n",
    "insert_after(L3,L4)\n",
    "insert_after(L4,L5)\n",
    "insert_after(L5,L6)"
   ]
  },
  {
   "cell_type": "code",
   "execution_count": 4,
   "metadata": {
    "collapsed": false
   },
   "outputs": [
    {
     "name": "stdout",
     "output_type": "stream",
     "text": [
      "555\n",
      "777\n",
      "999\n",
      "666\n",
      "888\n",
      "111\n"
     ]
    }
   ],
   "source": [
    "print_list(L1)"
   ]
  },
  {
   "cell_type": "markdown",
   "metadata": {},
   "source": [
    "Problem 1 : Create two sorted lists and merge them"
   ]
  },
  {
   "cell_type": "code",
   "execution_count": 5,
   "metadata": {
    "collapsed": false
   },
   "outputs": [
    {
     "name": "stdout",
     "output_type": "stream",
     "text": [
      "List_1\n",
      "555\n",
      "777\n",
      "999\n",
      "List_2\n",
      "666\n",
      "888\n",
      "1000\n"
     ]
    }
   ],
   "source": [
    "L1 = ListNode(555)\n",
    "La = ListNode(777)\n",
    "Lb = ListNode(999)\n",
    "\n",
    "L2 = ListNode(666)\n",
    "Ld = ListNode(888)\n",
    "Le = ListNode(1000)\n",
    "\n",
    "insert_after(L1,La)\n",
    "insert_after(La,Lb)\n",
    "\n",
    "insert_after(L2,Ld)\n",
    "insert_after(Ld,Le)\n",
    "\n",
    "print(\"List_1\")\n",
    "print_list(L1)\n",
    "print(\"List_2\")\n",
    "print_list(L2)"
   ]
  },
  {
   "cell_type": "code",
   "execution_count": 6,
   "metadata": {
    "collapsed": false
   },
   "outputs": [
    {
     "name": "stdout",
     "output_type": "stream",
     "text": [
      "list1\n",
      "list2\n",
      "list1\n",
      "list2\n",
      "list1\n",
      "555\n",
      "666\n",
      "777\n",
      "888\n",
      "999\n"
     ]
    }
   ],
   "source": [
    "def merge_list(Lk,Lm):\n",
    "    temp_1 = Lk\n",
    "    temp_2 = Lm\n",
    "    head = temp = ListNode()\n",
    "    \n",
    "    while temp_1 and temp_2:\n",
    "        if temp_1.data < temp_2.data:\n",
    "            print(\"list1\")\n",
    "            temp.next = temp_1\n",
    "            temp_1 = temp_1.next\n",
    "        else:\n",
    "            print(\"list2\")\n",
    "            temp.next = temp_2\n",
    "            temp_2 = temp_2.next\n",
    "        temp = temp.next\n",
    "    temp = temp_1 or temp_2\n",
    "    return head.next\n",
    "\n",
    "print_list(merge_list(L1,L2))"
   ]
  },
  {
   "cell_type": "code",
   "execution_count": 7,
   "metadata": {
    "collapsed": false
   },
   "outputs": [
    {
     "name": "stdout",
     "output_type": "stream",
     "text": [
      "555\n",
      "777\n",
      "999\n",
      "666\n",
      "888\n",
      "111\n",
      "reversed_list\n",
      "111\n",
      "888\n",
      "666\n",
      "999\n",
      "777\n",
      "555\n"
     ]
    }
   ],
   "source": [
    "L1 = ListNode(555)\n",
    "L2 = ListNode(777)\n",
    "L3 = ListNode(999)\n",
    "L4 = ListNode(666)\n",
    "L5 = ListNode(888)\n",
    "L6 = ListNode(111)\n",
    "\n",
    "insert_after(L1,L2)\n",
    "insert_after(L2,L3)\n",
    "insert_after(L3,L4)\n",
    "insert_after(L4,L5)\n",
    "insert_after(L5,L6)\n",
    "\n",
    "def reverse_list(L):\n",
    "    ptr1 = L\n",
    "    ptr2 = ptr3 = L.next\n",
    "    while ptr3:\n",
    "        ptr3 = ptr3.next\n",
    "        ptr2.next = ptr1\n",
    "        ptr1 = ptr2\n",
    "        ptr2 = ptr3\n",
    "    L.next = None\n",
    "    return ptr1\n",
    "\n",
    "print_list(L1)\n",
    "h = reverse_list(L1)\n",
    "print(\"reversed_list\")\n",
    "print_list(h)"
   ]
  },
  {
   "cell_type": "code",
   "execution_count": 8,
   "metadata": {
    "collapsed": false
   },
   "outputs": [
    {
     "name": "stdout",
     "output_type": "stream",
     "text": [
      "L1\n",
      "7\n",
      "2\n",
      "3\n",
      "L2\n",
      "4\n",
      "5\n",
      "6\n",
      "L1 + L2\n",
      "1\n",
      "8\n",
      "9\n"
     ]
    }
   ],
   "source": [
    "L1_1 = ListNode(7)\n",
    "L2_1 = ListNode(2)\n",
    "L3 = ListNode(3)\n",
    "\n",
    "L4 = ListNode(4)\n",
    "L5 = ListNode(5)\n",
    "L6 = ListNode(6)\n",
    "\n",
    "insert_after(L1_1,L2_1)\n",
    "insert_after(L2_1,L3)\n",
    "\n",
    "insert_after(L4,L5)\n",
    "insert_after(L5,L6)\n",
    "\n",
    "def add_two_numbers(L1,L2):\n",
    "    carry = 0\n",
    "    head = L3 = ListNode()\n",
    "    while L1 and L2:\n",
    "        sum_a = L1.data + L2.data + carry\n",
    "        carry = sum_a // 10\n",
    "        sum_a = sum_a % 10\n",
    "        L3.next = ListNode(sum_a)\n",
    "        L3 = L3.next\n",
    "        L1 = L1.next\n",
    "        L2 = L2.next\n",
    "    while L1:\n",
    "        sum_a = L1.data + carry\n",
    "        carry = sum_a // 10\n",
    "        sum_a = sum_a % 10\n",
    "        L3.next = ListNode(sum_a)\n",
    "        L3 = L3.next\n",
    "        L1 = L1.next\n",
    "    while L2:\n",
    "        sum_a = L2.data + carry\n",
    "        carry = sum_a // 10\n",
    "        sum_a = sum_a % 10\n",
    "        L3.next = ListNode(sum_a)\n",
    "        L3 = L3.next\n",
    "        L2 = L2.next\n",
    "    while carry:\n",
    "        sum_a = carry\n",
    "        carry = sum_a // 10\n",
    "        sum_a = sum_a % 10\n",
    "        L3.next = ListNode(sum_a)\n",
    "        L3 = L3.next   \n",
    "    return head.next\n",
    "\n",
    "print(\"L1\")\n",
    "print_list(L1_1)\n",
    "print(\"L2\")\n",
    "print_list(L4)\n",
    "print(\"L1 + L2\")\n",
    "print_list(add_two_numbers(L1_1,L4))"
   ]
  },
  {
   "cell_type": "code",
   "execution_count": 9,
   "metadata": {
    "collapsed": false
   },
   "outputs": [
    {
     "name": "stdout",
     "output_type": "stream",
     "text": [
      "L1\n",
      "555\n",
      "reverse\n",
      "555\n",
      "L1\n",
      "0\n"
     ]
    }
   ],
   "source": [
    "def print_reverse(L):\n",
    "    head = temp = ListNode()\n",
    "    if not L.next:\n",
    "        print(L.data)\n",
    "        temp = ListNode(L.data)\n",
    "        temp = temp.next\n",
    "    else:\n",
    "        print_reverse(L.next)\n",
    "        print(L.data)\n",
    "        temp = ListNode(L.data)\n",
    "        temp = temp.next     \n",
    "    return head\n",
    "\n",
    "print(\"L1\")\n",
    "print_list(L1)\n",
    "print(\"reverse\")\n",
    "L1_reverse = print_reverse(L1)\n",
    "print(\"L1\")\n",
    "print_list(L1_reverse)"
   ]
  }
 ],
 "metadata": {
  "kernelspec": {
   "display_name": "Python 3",
   "language": "python",
   "name": "python3"
  },
  "language_info": {
   "codemirror_mode": {
    "name": "ipython",
    "version": 3
   },
   "file_extension": ".py",
   "mimetype": "text/x-python",
   "name": "python",
   "nbconvert_exporter": "python",
   "pygments_lexer": "ipython3",
   "version": "3.6.5"
  }
 },
 "nbformat": 4,
 "nbformat_minor": 2
}
